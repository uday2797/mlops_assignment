{
 "cells": [
  {
   "cell_type": "code",
   "execution_count": null,
   "metadata": {},
   "outputs": [],
   "source": [
    "pip install pandas numpy scikit-learn pyarrow fastparquet"
   ]
  },
  {
   "cell_type": "code",
   "execution_count": null,
   "metadata": {},
   "outputs": [],
   "source": [
    "import pandas as pd\n",
    "import numpy as np\n",
    "from sklearn.model_selection import train_test_split\n",
    "from sklearn.linear_model import LinearRegression\n",
    "from sklearn.feature_extraction import DictVectorizer\n",
    "from sklearn.metrics import mean_squared_error\n",
    "# Dataset loading\n",
    "file_path = \"/content/yellow_tripdata_2023-01.parquet\"\n",
    "df = pd.read_parquet(file_path)\n",
    "# Q1: Number of columns in January dataset\n",
    "print(f\"Number of columns: {df.shape[1]}\")\n",
    "\n",
    "df['tpep_pickup_datetime'] = pd.to_datetime(df['tpep_pickup_datetime'])\n",
    "df['tpep_dropoff_datetime'] = pd.to_datetime(df['tpep_dropoff_datetime'])\n",
    "# Computing trip duration in mins\n",
    "df['trip_duration'] = (df['tpep_dropoff_datetime'] - df['tpep_pickup_datetime']).dt.total_seconds() / 60\n",
    "# Q2: Standard deviation of trip duration\n",
    "std_duration = df['trip_duration'].std()\n",
    "print(f\"Standard deviation of trip duration: {std_duration:.2f}\")\n",
    "# Removing outliers \n",
    "df_filtered = df[(df['trip_duration'] >= 1) & (df['trip_duration'] <= 60)]\n",
    "print(f\"Fraction of records left: {len(df_filtered) / len(df):.2%}\")\n",
    "# One-hot encoding\n",
    "categorical = ['PULocationID', 'DOLocationID']\n",
    "df_filtered[categorical] = df_filtered[categorical].astype(str)\n",
    "dv = DictVectorizer(sparse=True)  # Use sparse matrices to save memory\n",
    "X = dv.fit_transform(df_filtered[categorical].to_dict(orient='records'))\n",
    "print(f\"Feature matrix dimensionality: {X.shape[1]}\") \n",
    "\n",
    "# Train-test split\n",
    "y = df_filtered['trip_duration']\n",
    "X_train, X_val, y_train, y_val = train_test_split(X, y, test_size=0.2, random_state=42)\n",
    "# Train a Linear Regression model\n",
    "model = LinearRegression()\n",
    "model.fit(X_train, y_train)\n",
    "# Computing RMSE on training data\n",
    "y_pred_train = model.predict(X_train)\n",
    "rmse_train = np.sqrt(mean_squared_error(y_train, y_pred_train))\n",
    "print(f\"RMSE on train: {rmse_train:.2f}\")\n",
    "# Loading dataset\n",
    "file_path_feb = \"/content/yellow_tripdata_2023-01.parquet\"\n",
    "df_feb = pd.read_parquet(file_path_feb)\n",
    "df_feb['tpep_pickup_datetime'] = pd.to_datetime(df_feb['tpep_pickup_datetime'])\n",
    "df_feb['tpep_dropoff_datetime'] = pd.to_datetime(df_feb['tpep_dropoff_datetime'])\n",
    "df_feb['trip_duration'] = (df_feb['tpep_dropoff_datetime'] - df_feb['tpep_pickup_datetime']).dt.total_seconds() / 60\n",
    "df_feb_filtered = df_feb[(df_feb['trip_duration'] >= 1) & (df_feb['trip_duration'] <= 60)]\n",
    "df_feb_filtered[categorical] = df_feb_filtered[categorical].astype(str)\n",
    "X_val_feb = dv.transform(df_feb_filtered[categorical].to_dict(orient='records'))\n",
    "y_val_feb = df_feb_filtered['trip_duration']\n",
    "# Compute RMSE on validation data\n",
    "y_pred_val = model.predict(X_val_feb)\n",
    "rmse_val = np.sqrt(mean_squared_error(y_val_feb, y_pred_val))\n",
    "print(f\"RMSE on validation: {rmse_val:.2f}\")"
   ]
  }
 ],
 "metadata": {
  "kernelspec": {
   "display_name": "Python 3",
   "language": "python",
   "name": "python3"
  },
  "language_info": {
   "name": "python",
   "version": "3.11.9"
  }
 },
 "nbformat": 4,
 "nbformat_minor": 2
}
